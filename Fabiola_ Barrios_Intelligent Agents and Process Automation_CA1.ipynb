{
 "cells": [
  {
   "cell_type": "markdown",
   "id": "3e674ef6",
   "metadata": {},
   "source": [
    "<right>\n",
    "    <img src<a href=\"https://tukuz.com/national-college-of-ireland-nci-logo-vector-svg/\" target=\"_blank\"><img src=\"https://tukuz.com/wp-content/uploads/2020/05/national-college-of-ireland-nci-logo-vector.png\" /></a> \n",
    "</right>"
   ]
  },
  {
   "cell_type": "markdown",
   "id": "02e1a493",
   "metadata": {},
   "source": [
    "<span style=\"font-size:16px;\"> \n",
    "<div style=\"text-align: center\">\n",
    "<br><b>National College of Ireland</b>\n",
    "<br><b>Project Submission Python code</b>\n",
    "<br>\n",
    "<br>\n",
    "<br><b>Student Name:</b>\t<br>Barrios Cabrera Fabiola\n",
    "<br>………………………………………………………………………………………………………………\n",
    "<br>\n",
    "<br><b>Student ID:</b>\t<br>23344555\n",
    "<br>………………………………………………………………………………………………………………\n",
    "<br>\n",
    "<br><b>Programme:</b>\t<br>Master of Science in AI for Business\n",
    "<br>………………………………………………………………\n",
    "<br>\n",
    "<br><b>Year:</b>\t<br>2025\n",
    "<br>………………………\n",
    "<br>\n",
    "<br><b>Module:</b>\t<br>Intelligent Agents and Process Automation\n",
    "<br>………………………………………………………………………………………………………………\n",
    "<br>\n",
    "<br><b>Lecturer:</b>\t<br>Setlur Arun S\n",
    "<br>………………………………………………………………………………………………………………\n",
    "<br>\n",
    "<br><b>Submission Due Date:</b>\t<br>22/04/2025\n",
    "<br>………………………………………………………………………………………………………………\n",
    "<br>\n",
    "<br><b>Project Title:</b>\t<br>Automation of Onboarding Process in Human Resources for Technological Organisations\n",
    "<br>………………………………………………………………………………………………………………\n",
    "\n"
   ]
  },
  {
   "cell_type": "markdown",
   "id": "38035c01",
   "metadata": {},
   "source": [
    "# Importing the libraries"
   ]
  },
  {
   "cell_type": "code",
   "execution_count": 1,
   "id": "f89ad22b",
   "metadata": {},
   "outputs": [],
   "source": [
    "#Importing the libraries\n",
    "import csv\n",
    "import os\n",
    "import getpass\n",
    "import smtplib\n",
    "from email.mime.text import MIMEText"
   ]
  },
  {
   "cell_type": "markdown",
   "id": "5af1b29e",
   "metadata": {},
   "source": [
    "# 1. Detect CSV encoding"
   ]
  },
  {
   "cell_type": "code",
   "execution_count": 2,
   "id": "f69df0ed",
   "metadata": {},
   "outputs": [
    {
     "name": "stdout",
     "output_type": "stream",
     "text": [
      "Detected encoding: UTF-8-SIG\n"
     ]
    }
   ],
   "source": [
    "# 1. Detect CSV encoding\n",
    "\n",
    "# Try to import chardet to guess the real file encoding\n",
    "try:\n",
    "    import chardet\n",
    "    # Open the CSV in binary mode and read a sample of bytes\n",
    "    with open('new_hire.csv', 'rb') as f:\n",
    "        sample = f.read(10000)\n",
    "    # chardet.detect returns a dict with the estimated encoding\n",
    "    encoding = chardet.detect(sample)['encoding'] or 'utf-8'\n",
    "    print(f\"Detected encoding: {encoding}\")\n",
    "except ImportError:\n",
    "    # If chardet is not installed, fall back to latin-1\n",
    "    encoding = 'latin-1'\n",
    "    print(\"chardet not found, defaulting to latin-1\")"
   ]
  },
  {
   "cell_type": "markdown",
   "id": "229cdfdf",
   "metadata": {},
   "source": [
    "# 2. Read the CSV and show available columns"
   ]
  },
  {
   "cell_type": "code",
   "execution_count": 3,
   "id": "b487e9e2",
   "metadata": {},
   "outputs": [
    {
     "name": "stdout",
     "output_type": "stream",
     "text": [
      "CSV columns: ['FirstName', 'LastName', 'PersonalEmail', 'Position', 'Department']\n"
     ]
    }
   ],
   "source": [
    "# 2. Read the CSV and show available columns\n",
    "# Open the CSV with the detected (or fallback) encoding\n",
    "with open('new_hire.csv', newline='', encoding=encoding, errors='replace') as csvfile:\n",
    "    reader = csv.DictReader(csvfile)\n",
    "    # reader.fieldnames contains the list of column names\n",
    "    print(\"CSV columns:\", reader.fieldnames)\n",
    "    try:\n",
    "        # Take the first row as the new hire record\n",
    "        new_hire = next(reader)\n",
    "    except StopIteration:\n",
    "        # If there are no rows, exit with an error\n",
    "        raise SystemExit(\"The CSV file is empty\")"
   ]
  },
  {
   "cell_type": "markdown",
   "id": "85bd34eb",
   "metadata": {},
   "source": [
    "# 3. Validate required fields"
   ]
  },
  {
   "cell_type": "code",
   "execution_count": 4,
   "id": "61c0639e",
   "metadata": {},
   "outputs": [],
   "source": [
    "# 3. Validate required fields\n",
    "required_fields = [\"FirstName\", \"LastName\", \"PersonalEmail\"]\n",
    "for field in required_fields:\n",
    "    if field not in new_hire:\n",
    "        # If any required column is missing, raise a KeyError with details\n",
    "        raise KeyError(f\"Missing column '{field}' in CSV. Available columns: {reader.fieldnames}\")"
   ]
  },
  {
   "cell_type": "code",
   "execution_count": 5,
   "id": "50ca63e4",
   "metadata": {},
   "outputs": [],
   "source": [
    "# Extract and clean values from the row\n",
    "first_name     = new_hire[\"FirstName\"].strip()\n",
    "last_name      = new_hire[\"LastName\"].strip()\n",
    "personal_email = new_hire[\"PersonalEmail\"].strip()\n",
    "# Generate a username: first letter of first name + last name, all lowercase\n",
    "username       = (first_name[0] + last_name).lower()"
   ]
  },
  {
   "cell_type": "markdown",
   "id": "24ffcdef",
   "metadata": {},
   "source": [
    "# 4. Simulate Active Directory operations"
   ]
  },
  {
   "cell_type": "code",
   "execution_count": 6,
   "id": "7cea3e5c",
   "metadata": {},
   "outputs": [
    {
     "name": "stdout",
     "output_type": "stream",
     "text": [
      "Creating AD user: fbarrios\n",
      "Adding fbarrios to the 'Developers' group\n"
     ]
    }
   ],
   "source": [
    "# 4. Simulate Active Directory operations\n",
    "\n",
    "# Here we just print messages; in production, replace with\n",
    "# real calls (e.g., ldap3 or PowerShell) to create the user.\n",
    "print(f\"Creating AD user: {username}\")\n",
    "print(f\"Adding {username} to the 'Developers' group\")\n",
    "# → Replace with your actual AD integration code (e.g., ldap3, PowerShell calls, etc.)"
   ]
  },
  {
   "cell_type": "markdown",
   "id": "49a0bb56",
   "metadata": {},
   "source": [
    "# 5. Compose the welcome email"
   ]
  },
  {
   "cell_type": "code",
   "execution_count": 7,
   "id": "6fb05dfb",
   "metadata": {},
   "outputs": [],
   "source": [
    "# 5. Compose the welcome email\n",
    "\n",
    "# Email subject, using f-string for personalization\n",
    "subject = f\"Welcome to the Company, {first_name}!\"\n",
    "# HTML body of the message\n",
    "body = f\"\"\"<p>Hi {first_name},</p>\n",
    "<p>Welcome to <strong>Our Tech Company</strong>. Your network username is <strong>{username}</strong> (you will be prompted to change your password on first login).</p>\n",
    "<p>Please find attached your first-day guide. If you have any questions, reply to this email or reach out via our internal chatbot.</p>\n",
    "<p>We’re excited to have you on the team!</p>\n",
    "<p><em>- HR Team</em></p>\"\"\""
   ]
  },
  {
   "cell_type": "code",
   "execution_count": 8,
   "id": "a316da65",
   "metadata": {},
   "outputs": [],
   "source": [
    "# Create the MIMEText object with the HTML body\n",
    "msg = MIMEText(body, 'html')\n",
    "msg['Subject'] = subject"
   ]
  },
  {
   "cell_type": "markdown",
   "id": "84fe79cf",
   "metadata": {},
   "source": [
    "# 6. Configure Gmail SMTP"
   ]
  },
  {
   "cell_type": "code",
   "execution_count": 9,
   "id": "23bf6041",
   "metadata": {},
   "outputs": [],
   "source": [
    "# 6. Configure Gmail SMTP\n",
    "SMTP_SERVER = 'smtp.gmail.com'\n",
    "SMTP_PORT   = 587"
   ]
  },
  {
   "cell_type": "code",
   "execution_count": 10,
   "id": "29c9f6f7",
   "metadata": {},
   "outputs": [
    {
     "data": {
      "text/plain": [
       "(250,\n",
       " b'smtp.gmail.com at your service, [80.233.41.7]\\nSIZE 35882577\\n8BITMIME\\nAUTH LOGIN PLAIN XOAUTH2 PLAIN-CLIENTTOKEN OAUTHBEARER XOAUTH\\nENHANCEDSTATUSCODES\\nPIPELINING\\nCHUNKING\\nSMTPUTF8')"
      ]
     },
     "execution_count": 10,
     "metadata": {},
     "output_type": "execute_result"
    }
   ],
   "source": [
    "smtp = smtplib.SMTP(SMTP_SERVER, SMTP_PORT)\n",
    "smtp.ehlo()        # Identify ourselves to the SMTP server\n",
    "smtp.starttls()    # Upgrade the connection to secure TLS\n",
    "smtp.ehlo()         # Re-identify after TLS handshake"
   ]
  },
  {
   "cell_type": "markdown",
   "id": "ef61da69",
   "metadata": {},
   "source": [
    "# 7. Load and sanitize credentials"
   ]
  },
  {
   "cell_type": "code",
   "execution_count": 11,
   "id": "2ec35daf",
   "metadata": {},
   "outputs": [],
   "source": [
    "# 7. Load and sanitize credentials\n",
    "# Read environment variables (if set) and strip whitespace\n",
    "GMAIL_USER = os.environ.get(\"GMAIL_USER\", \"........\").strip()  #(example with Gmail SMTP - in real environment use corporate server)\n",
    "GMAIL_PASS = os.environ.get(\"GMAIL_PASS\", \"........\").strip()  # Sender account password (ideally use App Password or Vault)\n"
   ]
  },
  {
   "cell_type": "code",
   "execution_count": 12,
   "id": "611cfc9e",
   "metadata": {},
   "outputs": [],
   "source": [
    "# If not defined, prompt the user to enter them\n",
    "if not GMAIL_USER:\n",
    "    GMAIL_USER = input(\"Enter your Gmail address: \").strip()\n",
    "if not GMAIL_PASS:\n",
    "      # getpass hides the password input\n",
    "    GMAIL_PASS = getpass.getpass(\"Enter your Gmail App Password: \").strip()"
   ]
  },
  {
   "cell_type": "markdown",
   "id": "9ac2e190",
   "metadata": {},
   "source": [
    "# 8. Authenticate and send"
   ]
  },
  {
   "cell_type": "code",
   "execution_count": 13,
   "id": "f8d039e0",
   "metadata": {},
   "outputs": [
    {
     "name": "stdout",
     "output_type": "stream",
     "text": [
      "✅ Gmail authentication successful\n",
      "Welcome email sent to fabiola.barrios.cab@gmail.com\n"
     ]
    }
   ],
   "source": [
    "# 8. Authenticate and send\n",
    "try:\n",
    "    # Attempt to log in with provided credentials\n",
    "    smtp.login(GMAIL_USER, GMAIL_PASS)\n",
    "    print(\"✅ Gmail authentication successful\")\n",
    "    \n",
    "    # Set the From and To headers on the message\n",
    "    msg['From'] = GMAIL_USER\n",
    "    msg['To']   = personal_email\n",
    "    \n",
    "     # Send the email\n",
    "    smtp.sendmail(msg['From'], [msg['To']], msg.as_string())\n",
    "    print(\"Welcome email sent to\", personal_email)\n",
    "    \n",
    "# Handle authentication errors specifically\n",
    "except smtplib.SMTPAuthenticationError:\n",
    "    print(\"❌ Authentication failed: check your Gmail credentials or App Password.\")\n",
    "\n",
    "# Catch any other unexpected exceptions    \n",
    "except Exception as e:\n",
    "    print(\"❌ Failed to send email:\", e)\n",
    "# Always close the SMTP connection\n",
    "finally:\n",
    "    smtp.quit()"
   ]
  },
  {
   "cell_type": "code",
   "execution_count": null,
   "id": "7097f1b2",
   "metadata": {},
   "outputs": [],
   "source": []
  },
  {
   "cell_type": "code",
   "execution_count": null,
   "id": "11f251b5",
   "metadata": {},
   "outputs": [],
   "source": []
  },
  {
   "cell_type": "code",
   "execution_count": null,
   "id": "12abbaee",
   "metadata": {},
   "outputs": [],
   "source": []
  }
 ],
 "metadata": {
  "kernelspec": {
   "display_name": "Python 3 (ipykernel)",
   "language": "python",
   "name": "python3"
  },
  "language_info": {
   "codemirror_mode": {
    "name": "ipython",
    "version": 3
   },
   "file_extension": ".py",
   "mimetype": "text/x-python",
   "name": "python",
   "nbconvert_exporter": "python",
   "pygments_lexer": "ipython3",
   "version": "3.9.7"
  }
 },
 "nbformat": 4,
 "nbformat_minor": 5
}
